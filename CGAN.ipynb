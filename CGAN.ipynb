{
 "cells": [
  {
   "cell_type": "code",
   "execution_count": 1,
   "metadata": {},
   "outputs": [
    {
     "name": "stderr",
     "output_type": "stream",
     "text": [
      "2023-11-27 18:01:25.062300: I tensorflow/core/platform/cpu_feature_guard.cc:182] This TensorFlow binary is optimized to use available CPU instructions in performance-critical operations.\n",
      "To enable the following instructions: AVX2 FMA, in other operations, rebuild TensorFlow with the appropriate compiler flags.\n"
     ]
    },
    {
     "name": "stdout",
     "output_type": "stream",
     "text": [
      "numpy: 1.24.3\n",
      "matplotlib: 3.7.1\n"
     ]
    }
   ],
   "source": [
    "# Import TensorFlow / Keras\n",
    "import tensorflow as tf\n",
    "from tensorflow.keras.models import Model, load_model\n",
    "from tensorflow.keras.layers import Input, Dense, Embedding, Reshape, Concatenate, Flatten, Dropout\n",
    "from tensorflow.keras.layers import Conv2D, Conv2DTranspose, MaxPool2D, ReLU, LeakyReLU\n",
    "from tensorflow.keras.utils import plot_model\n",
    "from tensorflow.keras.optimizers import Adam\n",
    "\n",
    "# Data manipulation\n",
    "import numpy as np\n",
    "print('numpy: %s' % np.__version__)\n",
    "\n",
    "# Visualization\n",
    "import matplotlib \n",
    "import matplotlib.pyplot as plt\n",
    "print('matplotlib: %s' % matplotlib.__version__)\n",
    "#import graphviz\n",
    "#print('graphviz: %s' % graphviz.__version__)\n",
    "\n",
    "# Other utilities\n",
    "import sys\n",
    "import os\n",
    "\n",
    "# Assign main directory to a variable\n",
    "main_dir = os.path.dirname(sys.path[0])\n",
    "#print(main_dir)"
   ]
  },
  {
   "cell_type": "code",
   "execution_count": 13,
   "metadata": {},
   "outputs": [
    {
     "ename": "error",
     "evalue": "OpenCV(4.8.0) :-1: error: (-5:Bad argument) in function 'cvtColor'\n> Overload resolution failed:\n>  - cvtColor() missing required argument 'code' (pos 2)\n>  - cvtColor() missing required argument 'code' (pos 2)\n",
     "output_type": "error",
     "traceback": [
      "\u001b[0;31m---------------------------------------------------------------------------\u001b[0m",
      "\u001b[0;31merror\u001b[0m                                     Traceback (most recent call last)",
      "Cell \u001b[0;32mIn[13], line 23\u001b[0m\n\u001b[1;32m     20\u001b[0m label \u001b[38;5;241m=\u001b[39m \u001b[38;5;28mint\u001b[39m(label\u001b[38;5;241m.\u001b[39msplit(\u001b[38;5;124m\"\u001b[39m\u001b[38;5;124m.\u001b[39m\u001b[38;5;124m\"\u001b[39m)[\u001b[38;5;241m0\u001b[39m])  \u001b[38;5;66;03m# Remove \".jpeg\" extension and convert to integer\u001b[39;00m\n\u001b[1;32m     22\u001b[0m \u001b[38;5;66;03m# Read the image and resize it to 256x256 pixels\u001b[39;00m\n\u001b[0;32m---> 23\u001b[0m image \u001b[38;5;241m=\u001b[39m cv2\u001b[38;5;241m.\u001b[39mcvtColor(os\u001b[38;5;241m.\u001b[39mpath\u001b[38;5;241m.\u001b[39mjoin(folder_path, filename))\n\u001b[1;32m     24\u001b[0m image \u001b[38;5;241m=\u001b[39m cv2\u001b[38;5;241m.\u001b[39mresize(image, (\u001b[38;5;241m256\u001b[39m, \u001b[38;5;241m256\u001b[39m))\n\u001b[1;32m     26\u001b[0m \u001b[38;5;66;03m# Normalize the image to [0, 1] range\u001b[39;00m\n",
      "\u001b[0;31merror\u001b[0m: OpenCV(4.8.0) :-1: error: (-5:Bad argument) in function 'cvtColor'\n> Overload resolution failed:\n>  - cvtColor() missing required argument 'code' (pos 2)\n>  - cvtColor() missing required argument 'code' (pos 2)\n"
     ]
    }
   ],
   "source": [
    "import os\n",
    "import cv2\n",
    "import numpy as np\n",
    "from sklearn.model_selection import train_test_split\n",
    "from tensorflow import keras\n",
    "import matplotlib.pyplot as plt\n",
    "\n",
    "# Set the path to your album_covers folder\n",
    "folder_path = \"./album_covers\"\n",
    "\n",
    "# Initialize empty lists to store data\n",
    "images = []\n",
    "labels = []\n",
    "\n",
    "# Iterate through files in the folder\n",
    "for filename in os.listdir(folder_path):\n",
    "    if filename.endswith(\".jpeg\"):\n",
    "        # Extract genre and label from the filename\n",
    "        genre, label = filename.split(\"_\")\n",
    "        label = int(label.split(\".\")[0])  # Remove \".jpeg\" extension and convert to integer\n",
    "       \n",
    "        # Read the image and resize it to 256x256 pixels\n",
    "        image = cv2.imread(os.path.join(folder_path, filename), cv2.COLOR_RGB2BGR)\n",
    "        image = cv2.resize(image, (256, 256))\n",
    "        \n",
    "        # Normalize the image to [0, 1] range\n",
    "        image = image / 255.0\n",
    "\n",
    "        # Append the image and label to the lists\n",
    "        images.append(image)\n",
    "        labels.append(label)\n",
    "\n",
    "# Convert lists to numpy arrays\n",
    "x_train = np.array(images)\n",
    "y_train = np.array(labels)\n",
    "\n",
    "# Split the data into training and testing sets (you can adjust the test_size as needed)\n",
    "x_train, _, y_train, _ = train_test_split(x_train, y_train, test_size=0.2, random_state=42)\n",
    "\n",
    "# Print shapes\n",
    "print(\"Shape of x_train: \", x_train.shape)\n",
    "print(\"Shape of y_train: \", y_train.shape)\n",
    "\n",
    "# Display images of the first 10 album covers in the training set and their true labels\n",
    "fig, axs = plt.subplots(2, 5, sharey=False, tight_layout=True, figsize=(12,6))\n",
    "for i in range(2):\n",
    "    for j in range(5):\n",
    "        axs[i, j].imshow(x_train[j + i * 5])\n",
    "        axs[i, j].set_title(y_train[j + i * 5])\n",
    "        axs[i, j].axis('off')\n",
    "plt.show()\n",
    "\n",
    "# Reshape and scale the data as required by the model\n",
    "x_train = x_train.reshape(x_train.shape[0], 256, 256, 1)\n",
    "x_train = (x_train - 0.5) / 0.5  # Normalize the images to [-1, 1]\n",
    "print(\"Shape of the scaled array: \", x_train.shape)"
   ]
  },
  {
   "cell_type": "code",
   "execution_count": null,
   "metadata": {},
   "outputs": [],
   "source": []
  },
  {
   "cell_type": "code",
   "execution_count": null,
   "metadata": {},
   "outputs": [],
   "source": []
  }
 ],
 "metadata": {
  "kernelspec": {
   "display_name": "Python 3 (ipykernel)",
   "language": "python",
   "name": "python3"
  },
  "language_info": {
   "codemirror_mode": {
    "name": "ipython",
    "version": 3
   },
   "file_extension": ".py",
   "mimetype": "text/x-python",
   "name": "python",
   "nbconvert_exporter": "python",
   "pygments_lexer": "ipython3",
   "version": "3.11.4"
  },
  "vscode": {
   "interpreter": {
    "hash": "aee8b7b246df8f9039afb4144a1f6fd8d2ca17a180786b69acc140d282b71a49"
   }
  }
 },
 "nbformat": 4,
 "nbformat_minor": 2
}
