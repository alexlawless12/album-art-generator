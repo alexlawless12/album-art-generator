{
 "cells": [
  {
   "cell_type": "code",
   "execution_count": 1,
   "metadata": {},
   "outputs": [
    {
     "name": "stderr",
     "output_type": "stream",
     "text": [
      "2023-11-28 16:59:58.750009: I tensorflow/core/platform/cpu_feature_guard.cc:182] This TensorFlow binary is optimized to use available CPU instructions in performance-critical operations.\n",
      "To enable the following instructions: AVX2 FMA, in other operations, rebuild TensorFlow with the appropriate compiler flags.\n"
     ]
    },
    {
     "name": "stdout",
     "output_type": "stream",
     "text": [
      "numpy: 1.24.3\n",
      "matplotlib: 3.7.1\n"
     ]
    }
   ],
   "source": [
    "# Import TensorFlow / Keras\n",
    "import tensorflow as tf\n",
    "from tensorflow.keras.models import Model, load_model\n",
    "from tensorflow.keras.layers import Input, Dense, Embedding, Reshape, Concatenate, Flatten, Dropout\n",
    "from tensorflow.keras.layers import Conv2D, Conv2DTranspose, MaxPool2D, ReLU, LeakyReLU\n",
    "from tensorflow.keras.utils import plot_model\n",
    "from tensorflow.keras.optimizers import Adam\n",
    "\n",
    "# Data manipulation\n",
    "import numpy as np\n",
    "print('numpy: %s' % np.__version__)\n",
    "\n",
    "# Visualization\n",
    "import matplotlib \n",
    "import matplotlib.pyplot as plt\n",
    "print('matplotlib: %s' % matplotlib.__version__)\n",
    "#import graphviz\n",
    "#print('graphviz: %s' % graphviz.__version__)\n",
    "\n",
    "# Other utilities\n",
    "import sys\n",
    "import os\n",
    "\n",
    "# Assign main directory to a variable\n",
    "main_dir = os.path.dirname(sys.path[0])\n",
    "#print(main_dir)"
   ]
  },
  {
   "cell_type": "code",
   "execution_count": null,
   "metadata": {},
   "outputs": [],
   "source": [
    "import os\n",
    "import cv2\n",
    "import numpy as np\n",
    "from sklearn.model_selection import train_test_split\n",
    "from tensorflow import keras\n",
    "import matplotlib.pyplot as plt\n",
    "\n",
    "# Set the path to your album_covers folder\n",
    "folder_path = \"./album_covers\"\n",
    "\n",
    "# Initialize empty lists to store data\n",
    "images = []\n",
    "labels = []\n",
    "files_to_process = 50000\n",
    "\n",
    "# Iterate through files in the folder\n",
    "for index, filename in enumerate(os.listdir(folder_path)):\n",
    "    if index >= files_to_process:\n",
    "        break\n",
    "    if filename.endswith(\".jpeg\"):\n",
    "        # Extract genre and label from the filename\n",
    "        genre, label = filename.split(\"_\")\n",
    "        label = genre  # Remove \".jpeg\" extension and convert to integer\n",
    "       \n",
    "        # Read the image and resize it to 256x256 pixels\n",
    "        image = cv2.imread(os.path.join(folder_path, filename))\n",
    "        image = cv2.cvtColor(image, cv2.COLOR_BGR2RGB)\n",
    "        image = cv2.resize(image, (256, 256))\n",
    "        \n",
    "        # Normalize the image to [0, 1] range\n",
    "        image = image / 255.0\n",
    "\n",
    "        # Append the image and label to the lists\n",
    "        images.append(image)\n",
    "        labels.append(label)\n",
    "\n",
    "# Convert lists to numpy arrays\n",
    "x_train = np.array(images)\n",
    "y_train = np.array(labels)\n",
    "\n",
    "# Split the data into training and testing sets (you can adjust the test_size as needed)\n",
    "x_train, _, y_train, _ = train_test_split(x_train, y_train, test_size=0.2, random_state=42)\n",
    "\n",
    "# Print shapes\n",
    "print(\"Shape of x_train: \", x_train.shape)\n",
    "print(\"Shape of y_train: \", y_train.shape)\n",
    "\n",
    "# Display images of the first 10 album covers in the training set and their true labels\n",
    "fig, axs = plt.subplots(2, 5, sharey=False, tight_layout=True, figsize=(12,6))\n",
    "for i in range(2):\n",
    "    for j in range(5):\n",
    "        axs[i, j].imshow(x_train[j + i * 5])\n",
    "        axs[i, j].set_title(y_train[j + i * 5])\n",
    "        axs[i, j].axis('off')\n",
    "plt.show()\n",
    "\n",
    "# Reshape and scale the data as required by the model\n",
    "x_train = x_train.reshape(x_train.shape[0], 256, 256, 3)\n",
    "x_train = (x_train - 0.5) / 0.5  # Normalize the images to [-1, 1]\n",
    "print(\"Shape of the scaled array: \", x_train.shape)"
   ]
  },
  {
   "cell_type": "markdown",
   "metadata": {},
   "source": [
    "# Build the Generator"
   ]
  },
  {
   "cell_type": "code",
   "execution_count": null,
   "metadata": {},
   "outputs": [],
   "source": [
    "from keras.layers import Input\n",
    "from tensorflow.keras.utils import plot_model\n",
    "\n",
    "def generator(latent_dim, in_shape=(64,64,3), n_cats=10):\n",
    "        \n",
    "    # Label Inputs\n",
    "    in_label = Input(shape=(1,), name='Generator-Label-Input-Layer') # Input Layer\n",
    "    lbls = Embedding(n_cats, 50, name='Generator-Label-Embedding-Layer')(in_label) # Embed label to vector\n",
    "    \n",
    "    # Scale up to image dimensions\n",
    "    n_nodes = in_shape[0] * in_shape[1] \n",
    "    lbls = Dense(n_nodes, name='Generator-Label-Dense-Layer')(lbls)\n",
    "    lbls = Reshape((in_shape[0], in_shape[1], 1), name='Generator-Label-Reshape-Layer')(lbls) # New shape\n",
    "\n",
    "    # Generator Inputs (latent vector)\n",
    "    in_latent = Input(shape=latent_dim, name='Generator-Latent-Input-Layer')\n",
    "    \n",
    "    # Image Foundation \n",
    "    n_nodes = 64 * 64 * 128 # number of nodes in the initial layer\n",
    "    g = Dense(n_nodes, name='Generator-Foundation-Layer')(in_latent)\n",
    "    g = ReLU(name='Generator-Foundation-Layer-Activation-1')(g)\n",
    "    g = Reshape((64, 64, 128), name='Generator-Foundation-Layer-Reshape-1')(g)\n",
    "    \n",
    "    # Combine both inputs so it has two channels\n",
    "    concat = Concatenate(name='Generator-Combine-Layer')([g, lbls])\n",
    "\n",
    "    # Hidden Layer 1\n",
    "    g = Conv2DTranspose(filters=128, kernel_size=(4,4), strides=(2,2), padding='same', name='Generator-Hidden-Layer-1')(concat)\n",
    "    g = ReLU(name='Generator-Hidden-Layer-Activation-1')(g)\n",
    "    \n",
    "    # Hidden Layer 2\n",
    "    g = Conv2DTranspose(filters=128, kernel_size=(4,4), strides=(2,2), padding='same', name='Generator-Hidden-Layer-2')(g)\n",
    "    g = ReLU(name='Generator-Hidden-Layer-Activation-2')(g)\n",
    "    \n",
    "    # Output Layer (Note, we use 1 filter since we have a color image)\n",
    "    output_layer = Conv2D(filters=3, kernel_size=(64,64), activation='tanh', padding='same', name='Generator-Output-Layer')(g)\n",
    "    \n",
    "    # Define model\n",
    "    model = Model([in_latent, in_label], output_layer, name='Generator')\n",
    "    return model\n",
    "\n",
    "# Instantiate\n",
    "latent_dim=100 # Our latent space has 100 dimensions. We can change it to any number\n",
    "gen_model = generator(latent_dim)\n",
    "\n",
    "# Show model summary and plot model diagram\n",
    "gen_model.summary()"
   ]
  },
  {
   "cell_type": "markdown",
   "metadata": {},
   "source": [
    "# Discriminator"
   ]
  },
  {
   "cell_type": "code",
   "execution_count": null,
   "metadata": {},
   "outputs": [],
   "source": [
    "def discriminator(in_shape=(256,256,3), n_cats=10):\n",
    "    \n",
    "    # Label Inputs\n",
    "    in_label = Input(shape=(1,), name='Discriminator-Label-Input-Layer') # Input Layer\n",
    "    lbls = Embedding(n_cats, 50, name='Discriminator-Label-Embedding-Layer')(in_label) # Embed label to vector\n",
    "    \n",
    "    # Scale up to image dimensions\n",
    "    n_nodes = in_shape[0] * in_shape[1] \n",
    "    lbls = Dense(n_nodes, name='Discriminator-Label-Dense-Layer')(lbls)\n",
    "    lbls = Reshape((in_shape[0], in_shape[1], 1), name='Discriminator-Label-Reshape-Layer')(lbls) # New shape\n",
    "\n",
    "    # Image Inputs\n",
    "    in_image = Input(shape=in_shape, name='Discriminator-Image-Input-Layer')\n",
    "    \n",
    "    # Combine both inputs so it has two channels\n",
    "    concat = Concatenate(name='Discriminator-Combine-Layer')([in_image, lbls])\n",
    "\n",
    "    # Hidden Layer 1\n",
    "    h = Conv2D(filters=64, kernel_size=(3,3), strides=(2,2), padding='same', name='Discriminator-Hidden-Layer-1')(concat)\n",
    "    h = LeakyReLU(alpha=0.2, name='Discriminator-Hidden-Layer-Activation-1')(h)\n",
    "    \n",
    "    # Hidden Layer 2\n",
    "    h = Conv2D(filters=128, kernel_size=(3,3), strides=(2,2), padding='same', name='Discriminator-Hidden-Layer-2')(h)\n",
    "    h = LeakyReLU(alpha=0.2, name='Discriminator-Hidden-Layer-Activation-2')(h)\n",
    "    h = MaxPool2D(pool_size=(3,3), strides=(2,2), padding='valid', name='Discriminator-MaxPool-Layer-2')(h) # Max Pool\n",
    "    \n",
    "    # Flatten and Output Layers\n",
    "    h = Flatten(name='Discriminator-Flatten-Layer')(h) # Flatten the shape\n",
    "    h = Dropout(0.2, name='Discriminator-Flatten-Layer-Dropout')(h) # Randomly drop some connections for better generalization\n",
    "   \n",
    "    output_layer = Dense(1, activation='sigmoid', name='Discriminator-Output-Layer')(h) # Output Layer\n",
    "    \n",
    "    # Define model\n",
    "    model = Model([in_image, in_label], output_layer, name='Discriminator')\n",
    "    \n",
    "    # Compile the model\n",
    "    model.compile(loss='binary_crossentropy', optimizer=Adam(learning_rate=0.0002, beta_1=0.5), metrics=['accuracy'])\n",
    "    return model\n",
    "\n",
    "# Instantiate\n",
    "dis_model = discriminator()\n",
    "\n",
    "# Show model summary and plot model diagram\n",
    "dis_model.summary()"
   ]
  },
  {
   "cell_type": "markdown",
   "metadata": {},
   "source": [
    "# Combine the Discrimantor and Generator"
   ]
  },
  {
   "cell_type": "code",
   "execution_count": null,
   "metadata": {},
   "outputs": [],
   "source": [
    "def def_gan(generator, discriminator):\n",
    "    \n",
    "    # We don't want to train the weights of discriminator at this stage. Hence, make it not trainable\n",
    "    discriminator.trainable = False\n",
    "    \n",
    "    # Get Generator inputs / outputs\n",
    "    gen_latent, gen_label = generator.input # Latent and label inputs from the generator\n",
    "    gen_output = generator.output # Generator output image\n",
    "    \n",
    "    # Connect image and label from the generator to use as input into the discriminator\n",
    "    gan_output = discriminator([gen_output, gen_label])\n",
    "    \n",
    "    # Define GAN model\n",
    "    model = Model([gen_latent, gen_label], gan_output, name=\"cDCGAN\")\n",
    "    \n",
    "    # Compile the model\n",
    "    model.compile(loss='binary_crossentropy', optimizer=Adam(learning_rate=0.0002, beta_1=0.5))\n",
    "    return model\n",
    "\n",
    "# Instantiate\n",
    "gan_model = def_gan(gen_model, dis_model)\n",
    "\n",
    "# Show model summary and plot model diagram\n",
    "gan_model.summary()"
   ]
  },
  {
   "cell_type": "markdown",
   "metadata": {},
   "source": [
    "# Sample Images (real)"
   ]
  },
  {
   "cell_type": "code",
   "execution_count": 37,
   "metadata": {},
   "outputs": [],
   "source": [
    "def real_samples(dataset, categories, n):\n",
    "    \n",
    "    # Create a random list of indices\n",
    "    indx = np.random.randint(0, dataset.shape[0], n)\n",
    "    \n",
    "    # Select real data samples (images and category labels) using the list of random indeces from above\n",
    "    X, cat_labels = dataset[indx], categories[indx]\n",
    "\n",
    "    # Class labels\n",
    "    y = np.ones((n, 1))\n",
    "\n",
    "    return [X, cat_labels], y"
   ]
  },
  {
   "cell_type": "markdown",
   "metadata": {},
   "source": [
    "# sample the latent space"
   ]
  },
  {
   "cell_type": "code",
   "execution_count": 38,
   "metadata": {},
   "outputs": [],
   "source": [
    "def latent_vector(latent_dim, n, n_cats=10):\n",
    "    \n",
    "    # Generate points in the latent space\n",
    "    latent_input = np.random.randn(latent_dim * n)\n",
    "    \n",
    "    # Reshape into a batch of inputs for the network\n",
    "    latent_input = latent_input.reshape(n, latent_dim)\n",
    "    \n",
    "    # Generate category labels \n",
    "    cat_labels = np.random.randint(0, n_cats, n)\n",
    "    \n",
    "    return [latent_input, cat_labels]"
   ]
  },
  {
   "cell_type": "code",
   "execution_count": 39,
   "metadata": {},
   "outputs": [],
   "source": [
    "def fake_samples(generator, latent_dim, n):\n",
    "    \n",
    "    # Generate points in latent space\n",
    "    latent_output, cat_labels = latent_vector(latent_dim, n)\n",
    "    \n",
    "    # Predict outputs (i.e., generate fake samples)\n",
    "    X = generator.predict([latent_output, cat_labels])\n",
    "    \n",
    "    # Create class labels\n",
    "    y = np.zeros((n, 1))\n",
    "    \n",
    "    return [X, cat_labels], y\n"
   ]
  },
  {
   "cell_type": "markdown",
   "metadata": {},
   "source": [
    "# Evaluation Function"
   ]
  },
  {
   "cell_type": "code",
   "execution_count": 40,
   "metadata": {},
   "outputs": [],
   "source": [
    "def show_fakes(generator, latent_dim, n=10):\n",
    "    \n",
    "    # Get fake (generated) samples\n",
    "    x_fake, y_fake = fake_samples(generator, latent_dim, n)\n",
    "    \n",
    "    # Rescale from [-1, 1] to [0, 1]\n",
    "    X_tst = (x_fake[0] + 1) / 2.0\n",
    "    \n",
    "    # Display fake (generated) images\n",
    "    fig, axs = plt.subplots(2, 5, sharey=False, tight_layout=True, figsize=(12,6), facecolor='white')\n",
    "    k=0\n",
    "    for i in range(0,2):\n",
    "        for j in range(0,5):\n",
    "            axs[i,j].matshow(X_tst[k], cmap='gray')\n",
    "            axs[i,j].set(title=x_fake[1][k])\n",
    "            axs[i,j].axis('off')\n",
    "            k=k+1\n",
    "    plt.show() "
   ]
  },
  {
   "cell_type": "code",
   "execution_count": 46,
   "metadata": {},
   "outputs": [],
   "source": [
    "def train(g_model, d_model, gan_model, dataset, categories, latent_dim, n_epochs=10, n_batch=128, n_eval=200):\n",
    "    # Number of batches to use per each epoch\n",
    "    batch_per_epoch = int(dataset.shape[0] / n_batch)\n",
    "    print(dataset.shape)\n",
    "    print(' batch_per_epoch: ',  batch_per_epoch)\n",
    "    # Our batch to train the discriminator will consist of half real images and half fake (generated) images\n",
    "    half_batch = int(n_batch / 2)\n",
    "    \n",
    "    # We will manually enumare epochs \n",
    "    for i in range(n_epochs):\n",
    "        \n",
    "        # Enumerate batches over the training set\n",
    "        for j in range(batch_per_epoch):\n",
    "    \n",
    "        # Discriminator training\n",
    "            # Prep real samples\n",
    "            [x_real, cat_labels_real], y_real = real_samples(dataset, categories, half_batch)\n",
    "            #[x_real, cat_labels_real], y_real = generate_real_samples(dataset, half_batch)\n",
    "            # Train discriminator with real samples\n",
    "            discriminator_loss1, _ = d_model.train_on_batch([x_real, cat_labels_real], y_real)\n",
    "            \n",
    "            # Prep fake (generated) samples\n",
    "            [x_fake, cat_labels_fake], y_fake = fake_samples(g_model, latent_dim, half_batch)\n",
    "            # Train discriminator with fake samples\n",
    "            discriminator_loss2, _ = d_model.train_on_batch([x_fake, cat_labels_fake], y_fake)\n",
    "\n",
    "\n",
    "        # Generator training\n",
    "            # Get values from the latent space to be used as inputs for the generator\n",
    "            [latent_input, cat_labels] = latent_vector(latent_dim, n_batch)\n",
    "            # While we are generating fake samples, \n",
    "            # we want GAN generator model to create examples that resemble the real ones,\n",
    "            # hence we want to pass labels corresponding to real samples, i.e. y=1, not 0.\n",
    "            y_gan = np.ones((n_batch, 1))\n",
    "\n",
    "            # Train the generator via a composite GAN model\n",
    "            generator_loss = gan_model.train_on_batch([latent_input, cat_labels], y_gan)\n",
    "        \n",
    "        # Summarize training progress and loss\n",
    "            if (j) % n_eval == 0:\n",
    "                print('Epoch: %d, Batch: %d/%d, D_Loss_Real=%.3f, D_Loss_Fake=%.3f Gen_Loss=%.3f' % \n",
    "                      (i+1, j+1, batch_per_epoch, discriminator_loss1, discriminator_loss2, generator_loss))\n",
    "                show_fakes(g_model, latent_dim)"
   ]
  },
  {
   "cell_type": "code",
   "execution_count": 47,
   "metadata": {},
   "outputs": [
    {
     "name": "stdout",
     "output_type": "stream",
     "text": [
      "(12, 256, 256, 3)\n",
      " batch_per_epoch:  0\n"
     ]
    }
   ],
   "source": [
    "train(gen_model, dis_model, gan_model, x_train, y_train, latent_dim)"
   ]
  },
  {
   "cell_type": "code",
   "execution_count": null,
   "metadata": {},
   "outputs": [],
   "source": []
  },
  {
   "cell_type": "code",
   "execution_count": null,
   "metadata": {},
   "outputs": [],
   "source": []
  },
  {
   "cell_type": "code",
   "execution_count": null,
   "metadata": {},
   "outputs": [],
   "source": []
  }
 ],
 "metadata": {
  "kernelspec": {
   "display_name": "Python 3 (ipykernel)",
   "language": "python",
   "name": "python3"
  },
  "language_info": {
   "codemirror_mode": {
    "name": "ipython",
    "version": 3
   },
   "file_extension": ".py",
   "mimetype": "text/x-python",
   "name": "python",
   "nbconvert_exporter": "python",
   "pygments_lexer": "ipython3",
   "version": "3.11.4"
  },
  "vscode": {
   "interpreter": {
    "hash": "aee8b7b246df8f9039afb4144a1f6fd8d2ca17a180786b69acc140d282b71a49"
   }
  }
 },
 "nbformat": 4,
 "nbformat_minor": 2
}
