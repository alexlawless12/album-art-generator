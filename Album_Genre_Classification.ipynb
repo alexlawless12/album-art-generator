{
 "cells": [
  {
   "cell_type": "code",
   "execution_count": 1,
   "id": "d65776fe",
   "metadata": {},
   "outputs": [
    {
     "name": "stderr",
     "output_type": "stream",
     "text": [
      "2023-12-06 11:38:42.670508: I tensorflow/core/platform/cpu_feature_guard.cc:182] This TensorFlow binary is optimized to use available CPU instructions in performance-critical operations.\n",
      "To enable the following instructions: AVX2 AVX512F AVX512_VNNI FMA, in other operations, rebuild TensorFlow with the appropriate compiler flags.\n"
     ]
    }
   ],
   "source": [
    "import numpy as np\n",
    "import pandas as pd\n",
    "from sklearn.model_selection import train_test_split\n",
    "from tensorflow.keras.models import Sequential\n",
    "from tensorflow.keras.layers import Conv2D, MaxPooling2D, Flatten, Dense\n",
    "from tensorflow.keras.callbacks import ModelCheckpoint, EarlyStopping\n",
    "import matplotlib.pyplot as plt"
   ]
  },
  {
   "cell_type": "code",
   "execution_count": 8,
   "id": "27702f8b",
   "metadata": {},
   "outputs": [],
   "source": [
    "# Load your CSV file\n",
    "csv_file_path = 'output.csv'  # Change this to your actual file name\n",
    "df = pd.read_csv(csv_file_path, header=0, dtype=int)\n",
    "\n",
    "# Extract labels and pixel values\n",
    "labels = df.iloc[:, 0].values\n",
    "pixels = df.iloc[:, 1:].values.reshape(-1, 128, 128, 1)\n",
    "\n",
    "# Split the data into train and test sets\n",
    "X_train, X_test, y_train, y_test = train_test_split(pixels, labels, test_size=0.2, random_state=42)\n",
    "\n",
    "# Normalize pixel values to the range [0, 1]\n",
    "X_train = X_train / 255.0\n",
    "X_test = X_test / 255.0"
   ]
  },
  {
   "cell_type": "code",
   "execution_count": 9,
   "id": "f6180da8",
   "metadata": {},
   "outputs": [
    {
     "name": "stdout",
     "output_type": "stream",
     "text": [
      "x_train items:  9088\n",
      "x_test items:  2272\n"
     ]
    }
   ],
   "source": [
    "print(\"x_train items: \", len(X_train))\n",
    "print(\"x_test items: \",len(X_test))"
   ]
  },
  {
   "cell_type": "code",
   "execution_count": 10,
   "id": "cdeb44a4",
   "metadata": {},
   "outputs": [
    {
     "name": "stdout",
     "output_type": "stream",
     "text": [
      "Model: \"sequential_2\"\n",
      "_________________________________________________________________\n",
      " Layer (type)                Output Shape              Param #   \n",
      "=================================================================\n",
      " conv2d_5 (Conv2D)           (None, 126, 126, 32)      320       \n",
      "                                                                 \n",
      " max_pooling2d_5 (MaxPoolin  (None, 63, 63, 32)        0         \n",
      " g2D)                                                            \n",
      "                                                                 \n",
      " conv2d_6 (Conv2D)           (None, 61, 61, 64)        18496     \n",
      "                                                                 \n",
      " max_pooling2d_6 (MaxPoolin  (None, 30, 30, 64)        0         \n",
      " g2D)                                                            \n",
      "                                                                 \n",
      " flatten_2 (Flatten)         (None, 57600)             0         \n",
      "                                                                 \n",
      " dense_4 (Dense)             (None, 128)               7372928   \n",
      "                                                                 \n",
      " dense_5 (Dense)             (None, 14)                1806      \n",
      "                                                                 \n",
      "=================================================================\n",
      "Total params: 7393550 (28.20 MB)\n",
      "Trainable params: 7393550 (28.20 MB)\n",
      "Non-trainable params: 0 (0.00 Byte)\n",
      "_________________________________________________________________\n"
     ]
    }
   ],
   "source": [
    "# Define the model\n",
    "model = Sequential()\n",
    "model.add(Conv2D(32, (3, 3), activation='relu', input_shape=(128, 128, 1)))\n",
    "model.add(MaxPooling2D((2, 2)))\n",
    "model.add(Conv2D(64, (3, 3), activation='relu'))\n",
    "model.add(MaxPooling2D((2, 2)))\n",
    "model.add(Flatten())\n",
    "model.add(Dense(128, activation='relu'))\n",
    "model.add(Dense(14, activation='softmax')) \n",
    "\n",
    "model.compile(optimizer='adam', loss='sparse_categorical_crossentropy', metrics=['accuracy'])\n",
    "model.summary()"
   ]
  },
  {
   "cell_type": "code",
   "execution_count": 11,
   "id": "8a56e4fd",
   "metadata": {},
   "outputs": [],
   "source": [
    "# Set up callbacks\n",
    "checkpoint = ModelCheckpoint('best_model.h5', save_best_only=True)\n",
    "early_stopping = EarlyStopping(patience=5, restore_best_weights=True)"
   ]
  },
  {
   "cell_type": "code",
   "execution_count": 13,
   "id": "c9d6e347",
   "metadata": {},
   "outputs": [
    {
     "name": "stdout",
     "output_type": "stream",
     "text": [
      "Epoch 1/30\n",
      "228/228 [==============================] - 53s 231ms/step - loss: 1.7814 - accuracy: 0.3787 - val_loss: 2.3483 - val_accuracy: 0.2261\n",
      "Epoch 2/30\n",
      "228/228 [==============================] - 51s 225ms/step - loss: 1.4496 - accuracy: 0.4930 - val_loss: 2.5173 - val_accuracy: 0.2195\n",
      "Epoch 3/30\n",
      "228/228 [==============================] - 52s 227ms/step - loss: 1.0167 - accuracy: 0.6565 - val_loss: 3.1267 - val_accuracy: 0.2442\n",
      "Epoch 4/30\n",
      "228/228 [==============================] - 53s 230ms/step - loss: 0.6562 - accuracy: 0.7935 - val_loss: 3.7042 - val_accuracy: 0.2486\n",
      "Epoch 5/30\n",
      "228/228 [==============================] - 54s 235ms/step - loss: 0.4072 - accuracy: 0.8872 - val_loss: 4.7272 - val_accuracy: 0.2585\n",
      "Epoch 6/30\n",
      "228/228 [==============================] - 52s 228ms/step - loss: 0.2852 - accuracy: 0.9326 - val_loss: 5.1543 - val_accuracy: 0.2712\n"
     ]
    }
   ],
   "source": [
    "# Train the model\n",
    "history = model.fit(X_train, y_train, epochs=30, validation_split=0.2, callbacks=[checkpoint, early_stopping])"
   ]
  },
  {
   "cell_type": "code",
   "execution_count": 14,
   "id": "0729fdca",
   "metadata": {},
   "outputs": [
    {
     "data": {
      "image/png": "[encoded data removed]",
      "text/plain": [
       "<Figure size 640x480 with 1 Axes>"
      ]
     },
     "metadata": {},
     "output_type": "display_data"
    }
   ],
   "source": [
    "# Plot the training history\n",
    "plt.plot(history.history['loss'], label='Training Loss')\n",
    "plt.plot(history.history['val_loss'], label='Validation Loss')\n",
    "plt.xlabel('Epochs')\n",
    "plt.ylabel('Loss')\n",
    "plt.legend()\n",
    "plt.show()"
   ]
  },
  {
   "cell_type": "code",
   "execution_count": 15,
   "id": "f2879d9d",
   "metadata": {},
   "outputs": [
    {
     "name": "stdout",
     "output_type": "stream",
     "text": [
      "71/71 [==============================] - 5s 66ms/step - loss: 2.3796 - accuracy: 0.2051\n",
      "Test Loss: 2.3796\n",
      "Test Accuracy: 0.2051\n"
     ]
    }
   ],
   "source": [
    "# Evaluate the model on the test set\n",
    "test_loss, test_accuracy = model.evaluate(X_test, y_test)\n",
    "print(f'Test Loss: {test_loss:.4f}')\n",
    "print(f'Test Accuracy: {test_accuracy:.4f}')"
   ]
  },
  {
   "cell_type": "code",
   "execution_count": null,
   "id": "61fa4e3f",
   "metadata": {},
   "outputs": [],
   "source": []
  }
 ],
 "metadata": {
  "kernelspec": {
   "display_name": "Python 3 (ipykernel)",
   "language": "python",
   "name": "python3"
  },
  "language_info": {
   "codemirror_mode": {
    "name": "ipython",
    "version": 3
   },
   "file_extension": ".py",
   "mimetype": "text/x-python",
   "name": "python",
   "nbconvert_exporter": "python",
   "pygments_lexer": "ipython3",
   "version": "3.11.4"
  }
 },
 "nbformat": 4,
 "nbformat_minor": 5
}
